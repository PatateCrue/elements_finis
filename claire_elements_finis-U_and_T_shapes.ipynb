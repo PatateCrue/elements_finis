{
 "cells": [
  {
   "cell_type": "markdown",
   "metadata": {},
   "source": [
    "# Résolution d'une équation aux dérivées partielles (e.d.p.) avec la méthode des différences finies "
   ]
  },
  {
   "cell_type": "markdown",
   "metadata": {},
   "source": [
    "####Mercredi 25 Mars 2015\n",
    "#####Claire Parquier (parqui_c)"
   ]
  },
  {
   "cell_type": "markdown",
   "metadata": {},
   "source": [
    "Le problème à résoudre est l'équation de la chaleur sur le domaine $\\Omega$ :\n",
    "\n",
    "$$-k \\Delta T(x, y) = f(x, y) ~~~~~~~~ (x, y) \\in \\Omega \\subset R^2$$\n",
    "\n",
    "où :\n",
    "\n",
    "* x et y sont les variables d'espace,\n",
    "* $T$ est l'inconnue, la température à calculer,\n",
    "* $k$ est la conductivité du matériau (connue),\n",
    "* $f(x, y)$ représente les sources de chaleur (connues).\n",
    "\n",
    "On utilise les bibliothèques suivantes :"
   ]
  },
  {
   "cell_type": "code",
   "execution_count": 214,
   "metadata": {
    "collapsed": false
   },
   "outputs": [],
   "source": [
    "from matplotlib import pyplot\n",
    "from scipy import linalg\n",
    "import numpy"
   ]
  },
  {
   "cell_type": "markdown",
   "metadata": {},
   "source": [
    "## 1 - Maillage"
   ]
  },
  {
   "cell_type": "markdown",
   "metadata": {},
   "source": [
    "On réutilise le namedtuple Node pour représenter un point :"
   ]
  },
  {
   "cell_type": "code",
   "execution_count": 215,
   "metadata": {
    "collapsed": false
   },
   "outputs": [],
   "source": [
    "from collections import namedtuple\n",
    "\n",
    "Node = namedtuple('Node', ['id', 'x', 'y', 'bc', 'bv', 'left', 'right', 'up', 'down'])"
   ]
  },
  {
   "cell_type": "markdown",
   "metadata": {},
   "source": [
    "On indique d'abord le bord (conditions à la limite), en précisant les x et y sur lesquels se trouvent les coins :"
   ]
  },
  {
   "cell_type": "code",
   "execution_count": 216,
   "metadata": {
    "collapsed": false
   },
   "outputs": [
    {
     "data": {
      "text/plain": [
       "u'\\n# another example with a T shape\\n\\n# p2-------p3\\n#  |        |\\n# p1-p8 p5-p4\\n#     |  |\\n#    p7-p6\\n\\nlx1 = 0\\nlx2 = 4\\nlx3 = 6\\nlx4 = 10\\n\\nly1 = 0\\nly2 = 5\\nly3 = 6\\n\\n\\np1 = (lx1, ly2)\\np2 = (lx1, ly3)\\np3 = (lx4, ly3)\\np4 = (lx4, ly2)\\np5 = (lx3, ly2)\\np6 = (lx3, ly1)\\np7 = (lx2, ly1)\\np8 = (lx2, ly2)\\n\\n# shape with values on border :\\nboundary_conditions = [\\n    [p1, p2, 0],\\n    [p2, p3, 0.2],\\n    [p3, p4, 0.1], \\n    [p4, p5, 0.5], \\n    [p5, p6, 0.1],  \\n    [p6, p7, 0.4],  \\n    [p7, p8, 0], \\n    [p8, p1, 0], \\n    ]\\n'"
      ]
     },
     "execution_count": 216,
     "metadata": {},
     "output_type": "execute_result"
    }
   ],
   "source": [
    "# p2-------p3\n",
    "#  | p7-p6  |\n",
    "#  |  |  |  |\n",
    "# p1-p8 p5-p4\n",
    "\n",
    "lx1 = 0\n",
    "lx2 = 2\n",
    "lx3 = 8\n",
    "lx4 = 10\n",
    "\n",
    "ly1 = 0\n",
    "ly2 = 5\n",
    "ly3 = 6\n",
    "\n",
    "\n",
    "p1 = (lx1, ly1)\n",
    "p2 = (lx1, ly3)\n",
    "p3 = (lx4, ly3)\n",
    "p4 = (lx4, ly1)\n",
    "p5 = (lx3, ly1)\n",
    "p6 = (lx3, ly2)\n",
    "p7 = (lx2, ly2)\n",
    "p8 = (lx2, ly1)\n",
    "\n",
    "# shape with values on border :\n",
    "boundary_conditions = [\n",
    "    [p1, p2, 1],\n",
    "    [p2, p3, 0.2],\n",
    "    [p3, p4, 0.1], \n",
    "    [p4, p5, 0.5], \n",
    "    [p5, p6, 0.1],  \n",
    "    [p6, p7, 0.4],  \n",
    "    [p7, p8, 1], \n",
    "    [p8, p1, 1], \n",
    "    ]\n",
    "\n",
    "\"\"\"\n",
    "# another example with a T shape\n",
    "\n",
    "# p2-------p3\n",
    "#  |        |\n",
    "# p1-p8 p5-p4\n",
    "#     |  |\n",
    "#    p7-p6\n",
    "\n",
    "lx1 = 0\n",
    "lx2 = 4\n",
    "lx3 = 6\n",
    "lx4 = 10\n",
    "\n",
    "ly1 = 0\n",
    "ly2 = 5\n",
    "ly3 = 6\n",
    "\n",
    "\n",
    "p1 = (lx1, ly2)\n",
    "p2 = (lx1, ly3)\n",
    "p3 = (lx4, ly3)\n",
    "p4 = (lx4, ly2)\n",
    "p5 = (lx3, ly2)\n",
    "p6 = (lx3, ly1)\n",
    "p7 = (lx2, ly1)\n",
    "p8 = (lx2, ly2)\n",
    "\n",
    "# shape with values on border :\n",
    "boundary_conditions = [\n",
    "    [p1, p2, 0],\n",
    "    [p2, p3, 0.2],\n",
    "    [p3, p4, 0.1], \n",
    "    [p4, p5, 0.5], \n",
    "    [p5, p6, 0.1],  \n",
    "    [p6, p7, 0.4],  \n",
    "    [p7, p8, 0], \n",
    "    [p8, p1, 0], \n",
    "    ]\n",
    "\"\"\""
   ]
  },
  {
   "cell_type": "markdown",
   "metadata": {},
   "source": [
    "Puis la conductivité du milieu :"
   ]
  },
  {
   "cell_type": "code",
   "execution_count": 217,
   "metadata": {
    "collapsed": false
   },
   "outputs": [],
   "source": [
    "COND = 1"
   ]
  },
  {
   "cell_type": "markdown",
   "metadata": {},
   "source": [
    "La source de chaleur :"
   ]
  },
  {
   "cell_type": "code",
   "execution_count": 218,
   "metadata": {
    "collapsed": false
   },
   "outputs": [],
   "source": [
    "heat = lambda x, y: (0, 5)[(1 < x < 2 and 0.2 < y < 1.2)\n",
    "                           or (0 < x < 1 and 3 < y < 4)\n",
    "                           or (8.5 < x < 9.5 and 0.1 < y < 0.8)]"
   ]
  },
  {
   "cell_type": "markdown",
   "metadata": {},
   "source": [
    "On crée ensuite un maillage :"
   ]
  },
  {
   "cell_type": "code",
   "execution_count": 219,
   "metadata": {
    "collapsed": false
   },
   "outputs": [],
   "source": [
    "# carefull = all vertical and horizontal limits MUST be in the list\n",
    "x_mesh = numpy.concatenate( [numpy.linspace(lx1,       lx1 + 0.3, 2, endpoint=False),\n",
    "                             numpy.linspace(lx1 + 0.3, lx2 - 0.3, 6, endpoint=False),\n",
    "                             numpy.linspace(lx2 - 0.3, lx2,       2, endpoint=False),\n",
    "                             numpy.linspace(lx2,       lx3,       8, endpoint=False),\n",
    "                             numpy.linspace(lx3,       lx3 + 0.3, 2, endpoint=False),\n",
    "                             numpy.linspace(lx3 + 0.3, lx4 - 0.3, 6, endpoint=False),\n",
    "                             numpy.linspace(lx4 - 0.3, lx4,       2)] )\n",
    "\n",
    "y_mesh = numpy.concatenate( [numpy.linspace(ly1,       ly1 + 0.4, 10, endpoint=False),\n",
    "                             numpy.linspace(ly1 + 0.4, ly2,       20, endpoint=False),\n",
    "                             numpy.linspace(ly2,       ly2 + 0.2, 2,  endpoint=False),\n",
    "                             numpy.linspace(ly2 + 0.2, ly3,       6)] )"
   ]
  },
  {
   "cell_type": "markdown",
   "metadata": {},
   "source": [
    "On cherche maintenant boundary, la frontière, qu'on va calculer à partir de boundary_condition et des points du maillage :"
   ]
  },
  {
   "cell_type": "code",
   "execution_count": 220,
   "metadata": {
    "collapsed": false
   },
   "outputs": [],
   "source": [
    "import functools\n",
    "\n",
    "boundary = {}\n",
    "get_inside = lambda v0, v1: functools.partial(filter, lambda v: min(v0, v1) <= v <= max(v0, v1))\n",
    "\n",
    "for ((x0, y0), (x1, y1), temperature) in boundary_conditions:\n",
    "    if y0 == y1:\n",
    "        for x in get_inside(x0, x1)(x_mesh):\n",
    "            if (x, y0) in boundary:\n",
    "                boundary[(x, y0)] = (boundary[(x, y0)] + temperature) / 2\n",
    "            else:\n",
    "                boundary[(x, y0)] = temperature\n",
    "    elif x0 == x1:\n",
    "        for y in get_inside(y0, y1)(y_mesh):\n",
    "            if (x0, y) in boundary:\n",
    "                boundary[(x0, y)] = (boundary[(x0, y)] + temperature) / 2\n",
    "            else:\n",
    "                boundary[(x0, y)] = temperature"
   ]
  },
  {
   "cell_type": "markdown",
   "metadata": {},
   "source": [
    "Enfin, on construit le maillage avec tout ses noeuds."
   ]
  },
  {
   "cell_type": "code",
   "execution_count": 221,
   "metadata": {
    "collapsed": false
   },
   "outputs": [],
   "source": [
    "plots = {}\n",
    "\n",
    "on_boundary = lambda i, j: (x_mesh[i], y_mesh[j]) in boundary\n",
    "\n",
    "\n",
    "for j, y in enumerate(y_mesh):\n",
    "    in_mesh = False\n",
    "    for i, x in enumerate(x_mesh):\n",
    "        if on_boundary(i, j):\n",
    "            plots[(i, j)] = Node((i, j), x, y, True, boundary[(x, y)], None, None, None, None)\n",
    "            # we cross a wall\n",
    "            if ((i <= 0 or not on_boundary(i - 1, j))\n",
    "                and (i + 1 >= len(x_mesh) or not on_boundary(i + 1, j))):\n",
    "                in_mesh = not in_mesh\n",
    "            # we go along a wall\n",
    "            elif (i + 1 < len(x_mesh) and (not on_boundary(i + 1, j))):\n",
    "                # the node under the next one is not in the mesh\n",
    "                if (not (i + 1, j - 1) in plots):\n",
    "                    in_mesh = False\n",
    "                # the node under the next one is in the mesh\n",
    "                else:\n",
    "                    in_mesh = not plots[(i + 1, j - 1)].bc\n",
    "        elif in_mesh:\n",
    "            plots[(i, j)] = Node((i, j), x, y, False, heat(x, y), (i - 1, j), (i + 1, j), (i, j + 1), (i, j - 1))"
   ]
  },
  {
   "cell_type": "markdown",
   "metadata": {},
   "source": [
    "## 2 - Résolution de l'équation aux dérivées partielles"
   ]
  },
  {
   "cell_type": "markdown",
   "metadata": {},
   "source": [
    "On utilise la méthode des différences finies :\n",
    "\n",
    "$$-k \\Delta T(x, y) = f(x, y) ~~~~~~~~ (x, y) \\in \\Omega \\subset R^2$$\n",
    "\n",
    "On peut approximer avec une erreur $\\varepsilon$ grâce au théorème de Taylor :\n",
    "\n",
    "$$ T(x + \\varepsilon_1, y) = T(x, y) + \\varepsilon_1 \\frac{\\partial T}{\\partial x}(x, y) + \\frac{\\varepsilon_1^2}{2}\\frac{\\partial^2 T}{\\partial x^2}(x, y) + O(\\varepsilon_1^3)$$\n",
    "\n",
    "$$ T(x - \\varepsilon_2, y) = T(x, y) - \\varepsilon_2 \\frac{\\partial T}{\\partial x}(x, y) + \\frac{\\varepsilon_2^2}{2}\\frac{\\partial^2 T}{\\partial x^2}(x, y) + O(\\varepsilon_2^3)$$\n",
    "\n",
    "On a donc :\n",
    "\n",
    "$$ \\varepsilon_2 T(x + \\varepsilon_1, y) + \\varepsilon_1 T(x - \\varepsilon_2, y) = (\\varepsilon_1 + \\varepsilon_2) T(x, y) + \\frac{\\varepsilon_1^2 \\varepsilon_2 + \\varepsilon_2^2 \\varepsilon_1}{2}\\frac{\\partial^2 T}{\\partial x^2}(x, y) + O(\\varepsilon_1^3 \\varepsilon_2 + \\varepsilon_2^3 \\varepsilon_1)$$\n",
    "\n",
    "On en déduit :\n",
    "\n",
    "$$ \\frac{\\partial^2 T}{\\partial x^2}(x, y) \\approx \\frac{2}{\\varepsilon_1^2 \\varepsilon_2 + \\varepsilon_2^2 \\varepsilon_1} (\\varepsilon_2 T(x + \\varepsilon_1, y) + \\varepsilon_1 T(x - \\varepsilon_2, y) - (\\varepsilon_1 + \\varepsilon_2) T(x, y))$$\n",
    "\n",
    "On peut ainsi construire la matrice à résoudre :\n",
    "\n"
   ]
  },
  {
   "cell_type": "code",
   "execution_count": 222,
   "metadata": {
    "collapsed": false
   },
   "outputs": [],
   "source": [
    "needed = list(filter(lambda x: not x.bc, plots.values()))\n",
    "rows = {t.id: i for i, t in enumerate(needed)}\n",
    "n = len(needed)\n",
    "\n",
    "# We want to solve Mat * X = B\n",
    "\n",
    "Mat = numpy.zeros((n, n))\n",
    "B = numpy.zeros(n)\n",
    "\n",
    "f_error = lambda x, lhs, rhs: (-2 / (abs(x - lhs) * (x - rhs) ** 2 + abs(x - rhs) * (x - lhs) ** 2),\n",
    "                               abs(x - rhs), abs(x - lhs))\n",
    "row_of = lambda x: rows[x.id]\n",
    "\n",
    "for p in needed:\n",
    "    cr = row_of(p)\n",
    "    B[cr] += p.bv / COND\n",
    "    \n",
    "    for sda, sdb, sd in (('left', 'right', 'x'), ('up', 'down', 'y')):\n",
    "        da = plots[getattr(p, sda)]\n",
    "        db = plots[getattr(p, sdb)]\n",
    "        d, e1, e2 = f_error(getattr(p, sd), getattr(da, sd), getattr(db, sd))\n",
    "        Mat[(cr, cr)] -= (e1 + e2) * d\n",
    "        for sub, e in ((da, e1), (db, e2)):\n",
    "            if sub.bc:\n",
    "                B[cr] -= e * d * sub.bv\n",
    "            else:\n",
    "                if sd == 'x':\n",
    "                    Mat[(cr, row_of(sub))] += e * d\n",
    "                elif sd == 'y':\n",
    "                    Mat[(cr, row_of(sub))] += e * d\n",
    "                    "
   ]
  },
  {
   "cell_type": "markdown",
   "metadata": {},
   "source": [
    "Notre matrice est maintenant remplie, on peut résoudre l'équation, et insérer les résultats dans la map values (point -> valeur) :"
   ]
  },
  {
   "cell_type": "code",
   "execution_count": 223,
   "metadata": {
    "collapsed": false
   },
   "outputs": [],
   "source": [
    "X = linalg.solve(Mat, B)\n",
    "values = {p.id : X[row_of(p)] for p in needed}"
   ]
  },
  {
   "cell_type": "markdown",
   "metadata": {},
   "source": [
    "Et ainsi créer la matrice résultat :"
   ]
  },
  {
   "cell_type": "code",
   "execution_count": 224,
   "metadata": {
    "collapsed": false
   },
   "outputs": [],
   "source": [
    "z = numpy.zeros((len(y_mesh), len(x_mesh)))\n",
    "\n",
    "for i in range(len(x_mesh)):\n",
    "    for j in range(len(y_mesh)):\n",
    "        try:\n",
    "            p = plots[(i, j)]\n",
    "            z[(j, i)] = p.bv if p.bc else values[p.id]\n",
    "        except KeyError:\n",
    "            z[(j, i)] = numpy.nan"
   ]
  },
  {
   "cell_type": "markdown",
   "metadata": {},
   "source": [
    "## 3 - Affichage"
   ]
  },
  {
   "cell_type": "markdown",
   "metadata": {},
   "source": [
    "On peut maintenant afficher la simulation.\n",
    "\n",
    "On commence d'abord par récupérer la liste des points en X et en Y.\n",
    "\n",
    "zip(*l) correspond à la fonction inverse de zip(l)."
   ]
  },
  {
   "cell_type": "code",
   "execution_count": 225,
   "metadata": {
    "collapsed": false
   },
   "outputs": [],
   "source": [
    "x_plots, y_plots = zip(*boundary)"
   ]
  },
  {
   "cell_type": "markdown",
   "metadata": {},
   "source": [
    "On affiche la simulation avec contourf et les points du maillage à la frontière avec scatter."
   ]
  },
  {
   "cell_type": "code",
   "execution_count": 226,
   "metadata": {
    "collapsed": false
   },
   "outputs": [],
   "source": [
    "pyplot.contourf(x_mesh, y_mesh, z, 150)\n",
    "pyplot.scatter(x_plots, y_plots)\n",
    "pyplot.show()"
   ]
  },
  {
   "cell_type": "code",
   "execution_count": null,
   "metadata": {
    "collapsed": true
   },
   "outputs": [],
   "source": []
  }
 ],
 "metadata": {
  "kernelspec": {
   "display_name": "Python 2",
   "language": "python",
   "name": "python2"
  },
  "language_info": {
   "codemirror_mode": {
    "name": "ipython",
    "version": 2
   },
   "file_extension": ".py",
   "mimetype": "text/x-python",
   "name": "python",
   "nbconvert_exporter": "python",
   "pygments_lexer": "ipython2",
   "version": "2.7.9"
  }
 },
 "nbformat": 4,
 "nbformat_minor": 0
}
